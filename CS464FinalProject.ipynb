{
 "cells": [
  {
   "cell_type": "markdown",
   "id": "4220f225",
   "metadata": {},
   "source": [
    "#### Anthony Sargent\n",
    "#### CS464 Final Project\n",
    "\n",
    "## Touch Screen Viability and Tactile Feedback in Video Games"
   ]
  },
  {
   "cell_type": "code",
   "execution_count": 9,
   "id": "27445355",
   "metadata": {},
   "outputs": [],
   "source": [
    "import numpy as np\n",
    "import pandas as pd\n",
    "from matplotlib import pyplot as plt\n",
    "\n",
    "data = np.genfromtxt(\"cs464project_data.csv\", delimiter=\",\", dtype='str');"
   ]
  },
  {
   "cell_type": "code",
   "execution_count": 15,
   "id": "2f145c3e",
   "metadata": {},
   "outputs": [
    {
     "name": "stdout",
     "output_type": "stream",
     "text": [
      "Control Type Gamer Error Rate Completion Time\n",
      "       Touch   Yes          3            24.6\n",
      "       Touch    no          4            22.1\n",
      "  Controller   Yes          2            25.2\n",
      "  Controller    no          5            21.1\n"
     ]
    }
   ],
   "source": [
    "control_type = data[:,0]\n",
    "is_gamer = data[:,1]\n",
    "error_rate = data[:,2]\n",
    "completion_time = data[:,3]\n",
    "\n",
    "table = {\n",
    "    \"Control Type\": control_type,\n",
    "    \"Gamer\": is_gamer,\n",
    "    \"Error Rate\": error_rate,\n",
    "    \"Completion Time\": completion_time,\n",
    "}\n",
    "\n",
    "tableDisplay = pd.DataFrame(table)\n",
    "print(tableDisplay.to_string(index=False))"
   ]
  },
  {
   "cell_type": "markdown",
   "id": "66ea09dc",
   "metadata": {},
   "source": [
    "Code for calculating Standard Deviation/Mean/Etc\n",
    "Create graphs for results."
   ]
  }
 ],
 "metadata": {
  "kernelspec": {
   "display_name": "Python 3 (ipykernel)",
   "language": "python",
   "name": "python3"
  },
  "language_info": {
   "codemirror_mode": {
    "name": "ipython",
    "version": 3
   },
   "file_extension": ".py",
   "mimetype": "text/x-python",
   "name": "python",
   "nbconvert_exporter": "python",
   "pygments_lexer": "ipython3",
   "version": "3.11.4"
  }
 },
 "nbformat": 4,
 "nbformat_minor": 5
}
