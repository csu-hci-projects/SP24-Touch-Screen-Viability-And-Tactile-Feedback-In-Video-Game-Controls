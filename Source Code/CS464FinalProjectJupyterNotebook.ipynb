{
 "cells": [
  {
   "cell_type": "markdown",
   "id": "4220f225",
   "metadata": {},
   "source": [
    "#### Anthony Sargent\n",
    "#### CS464 Final Project\n",
    "\n",
    "## Touch Screen Viability and Tactile Feedback in Video Games"
   ]
  },
  {
   "cell_type": "code",
   "execution_count": 1,
   "id": "27445355",
   "metadata": {},
   "outputs": [],
   "source": [
    "import numpy as np\n",
    "import pandas as pd\n",
    "from matplotlib import pyplot as plt\n",
    "\n",
    "data = np.genfromtxt(\"cs464project_data.csv\", delimiter=\",\", dtype='str');"
   ]
  },
  {
   "cell_type": "code",
   "execution_count": 2,
   "id": "2f145c3e",
   "metadata": {},
   "outputs": [
    {
     "name": "stdout",
     "output_type": "stream",
     "text": [
      "Participant Control Type Birth Sex Age Handedness Gamer Completion Time Error Rate Control Rank\n",
      "          1     Keyboard      Male  23      Right   Yes              36          0            5\n",
      "          1        Touch      Male  23      Right   Yes              90          7            1\n",
      "          2     Keyboard    Female  24       Left   Yes             240         31            4\n",
      "          2        Touch    Female  24       Left   Yes              17          0            5\n",
      "          3     Keyboard      Male  24      Right   Yes              67          0            4\n",
      "          3        Touch      Male  24      Right   Yes              42          1            3\n",
      "          4     Keyboard      Male  22       Both   Yes             183          1            5\n",
      "          4        Touch      Male  22       Both   Yes              83          0            2\n",
      "          5     Keyboard    Female  35      Right    No             452         11            5\n",
      "          6     Keyboard    Female  30      Right    No              45          4            5\n",
      "          6        Touch    Female  30      Right    No              99          2            1\n",
      "          7     Keyboard      Male  23      Right   Yes              42          1            5\n",
      "          7        Touch      Male  23      Right   Yes              67          0            3\n",
      "          8     Keyboard      Male  20       Left   Yes              36          1            5\n",
      "          8        Touch      Male  20       Left   Yes              22          0            4\n",
      "          9     Keyboard      Male  20      Right   Yes              30          0            5\n",
      "          9        Touch      Male  20      Right   Yes              65          1          2.5\n",
      "         10     Keyboard    Female  24      Right   Yes             189          4            5\n",
      "         10        Touch    Female  24      Right   Yes             146          0            5\n"
     ]
    }
   ],
   "source": [
    "participant = data[:,0]\n",
    "control_type = data[:,1]\n",
    "birth_sex = data[:,2]\n",
    "age = data[:,3]\n",
    "handedness = data[:,4]\n",
    "is_gamer = data[:,5]\n",
    "completion_time = data[:,6]\n",
    "error_rate = data[:,7]\n",
    "rank = data[:,8]\n",
    "\n",
    "categories = [\"Participant\", \"Control Type\", \"Birth Sex\", \"Age\", \"Handedness\", \"Gamer\", \"Completion Time\",\n",
    "             \"Error Rate\", \"Control Rank\"]\n",
    "\n",
    "table = {\n",
    "    categories[0]: participant,\n",
    "    categories[1]: control_type,\n",
    "    categories[2]: birth_sex,\n",
    "    categories[3]: age,\n",
    "    categories[4]: handedness,\n",
    "    categories[5]: is_gamer,\n",
    "    categories[6]: completion_time,\n",
    "    categories[7]: error_rate,\n",
    "    categories[8]: rank,\n",
    "}\n",
    "\n",
    "tableDisplay = pd.DataFrame(table)\n",
    "print(tableDisplay.to_string(index=False))"
   ]
  },
  {
   "cell_type": "code",
   "execution_count": 3,
   "id": "89da4d57",
   "metadata": {},
   "outputs": [
    {
     "name": "stdout",
     "output_type": "stream",
     "text": [
      "     Feature  Time Weight  Error Weight  Rank Weight\n",
      "Control Type     0.301263      0.286975     0.671854\n",
      "   Birth Sex     0.499107      0.437072     0.201968\n",
      "         Age     0.621857      0.280708     0.009343\n",
      "  Handedness     0.145351      0.326064     0.218341\n",
      "       Gamer     0.405190      0.140265     0.079878\n"
     ]
    }
   ],
   "source": [
    "features = data[:,[1,2,3,4,5]]\n",
    "time = data[:,6]\n",
    "error = data[:,7]\n",
    "rank = data[:,8]\n",
    "\n",
    "features[features==\"Male\"] = 1\n",
    "features[features==\"Female\"] = 0\n",
    "features[features==\"Right\"] = 1\n",
    "features[features==\"Left\"] = 0\n",
    "features[features==\"Both\"] = 2\n",
    "features[features==\"Yes\"] = 1\n",
    "features[features==\"No\"] = 0\n",
    "features[features==\"Keyboard\"] = 0\n",
    "features[features==\"Touch\"] = 1\n",
    "\n",
    "features = np.array(features, dtype=\"float64\")\n",
    "time = np.array(time, dtype=\"float64\")\n",
    "error = np.array(error, dtype=\"float64\")\n",
    "rank = np.array(rank, dtype=\"float64\")\n",
    "\n",
    "def checkWeight(index, dependent):\n",
    "    x = features[:, index]        \n",
    "    x_centered = x - np.mean(x)\n",
    "    y_centered = dependent - np.mean(dependent)\n",
    "    return np.abs((x_centered / np.linalg.norm(x_centered)) @ \\\n",
    "    (y_centered / np.linalg.norm(y_centered)))\n",
    "\n",
    "\n",
    "time_weights = []\n",
    "for i in range(len(features[0])):\n",
    "    time_weights.append(checkWeight(i, time))\n",
    "\n",
    "error_weights = []\n",
    "for i in range(len(features[0])):\n",
    "    error_weights.append(checkWeight(i, error))\n",
    "\n",
    "rank_weights = []\n",
    "for i in range(len(features[0])):\n",
    "    rank_weights.append(checkWeight(i, rank))\n",
    "    \n",
    "weights = [\n",
    "    [categories[1], time_weights[0], error_weights[0], rank_weights[0]],\n",
    "    [categories[2], time_weights[1], error_weights[1], rank_weights[1]],\n",
    "    [categories[3], time_weights[2], error_weights[2], rank_weights[2]],\n",
    "    [categories[4], time_weights[3], error_weights[3], rank_weights[3]],\n",
    "    [categories[5], time_weights[4], error_weights[4], rank_weights[4]],\n",
    "]\n",
    "weights_table = pd.DataFrame(weights, columns = ['Feature', 'Time Weight', \"Error Weight\", \"Rank Weight\"])\n",
    "print(weights_table.to_string(index=False))"
   ]
  },
  {
   "cell_type": "code",
   "execution_count": 4,
   "id": "ab53a5f0",
   "metadata": {},
   "outputs": [
    {
     "name": "stdout",
     "output_type": "stream",
     "text": [
      "Overall Average Time\n",
      "102.6842105263158\n",
      "\n",
      "\n",
      "Overall Average Error\n",
      "3.3684210526315788\n",
      "\n",
      "\n",
      "Overall Average Rank\n",
      "3.9210526315789473\n",
      "\n",
      "\n",
      "Overall STD Time\n",
      "102.5732357784473\n",
      "\n",
      "\n",
      "Overall STD Error\n",
      "7.094924251780575\n",
      "\n",
      "\n",
      "Overall STD Rank\n",
      "1.3790076322709368\n",
      "\n",
      "\n",
      "Control Type Averages\n",
      "\n",
      "Control Type  Time (seconds)  Mistakes     Rank\n",
      "    Keyboard      132.000000  5.300000 4.800000\n",
      "       Touch       70.111111  1.222222 2.944444\n",
      "\n",
      "\n",
      "Control Type Standard Deviations\n",
      "\n",
      "Control Type  Time (seconds)  Mistakes     Rank\n",
      "    Keyboard      129.863005  9.143850 0.400000\n",
      "       Touch       38.176329  2.148787 1.422916\n"
     ]
    }
   ],
   "source": [
    "# plt.semilogx()\n",
    "# plt.scatter(features[0], time_weights, c=\"blue\", alpha=0.5, label=\"Regular\")\n",
    "# plt.legend()\n",
    "# plt.show()\n",
    "key_times = []\n",
    "key_mistakes = []\n",
    "key_ranks = []\n",
    "touch_times = []\n",
    "touch_mistakes = []\n",
    "touch_ranks = []\n",
    "\n",
    "for i in range(len(data)):\n",
    "    if data[i][1] == \"Keyboard\":\n",
    "        key_times.append(data[i][6])\n",
    "        key_mistakes.append(data[i][7])\n",
    "        key_ranks.append(data[i][8])\n",
    "    if data[i][1] == \"Touch\":\n",
    "        touch_times.append(data[i][6])\n",
    "        touch_mistakes.append(data[i][7])\n",
    "        touch_ranks.append(data[i][8])   \n",
    "        \n",
    "key_times = np.array(key_times, dtype=\"float64\")\n",
    "key_mistakes = np.array(key_mistakes, dtype=\"float64\")\n",
    "key_ranks = np.array(key_ranks, dtype=\"float64\")\n",
    "touch_times = np.array(touch_times, dtype=\"float64\")\n",
    "touch_mistakes = np.array(touch_mistakes, dtype=\"float64\")\n",
    "touch_ranks = np.array(touch_ranks, dtype=\"float64\")\n",
    "\n",
    "key_time_avg = np.average(key_times)\n",
    "key_mist_avg = np.average(key_mistakes)\n",
    "key_rank_avg = np.average(key_ranks)\n",
    "touch_time_avg = np.average(touch_times)\n",
    "touch_mist_avg = np.average(touch_mistakes)\n",
    "touch_rank_avg = np.average(touch_ranks)\n",
    "\n",
    "key_time_std = np.std(key_times)\n",
    "key_mist_std = np.std(key_mistakes)\n",
    "key_rank_std = np.std(key_ranks)\n",
    "touch_time_std = np.std(touch_times)\n",
    "touch_mist_std = np.std(touch_mistakes)\n",
    "touch_rank_std = np.std(touch_ranks)\n",
    "\n",
    "avg_data = [\n",
    "    [\"Keyboard\", key_time_avg, key_mist_avg, key_rank_avg,],\n",
    "    [\"Touch\", touch_time_avg, touch_mist_avg, touch_rank_avg],\n",
    "]\n",
    "avg_table = pd.DataFrame(avg_data, columns = ['Control Type', 'Time (seconds)', 'Mistakes',\n",
    "                                              'Rank'])\n",
    "print(\"Overall Average Time\")\n",
    "OAT = np.average(time)\n",
    "print(OAT)\n",
    "print(\"\\n\")\n",
    "\n",
    "print(\"Overall Average Error\")\n",
    "OAE = np.average(error)\n",
    "print(OAE)\n",
    "print(\"\\n\")\n",
    "\n",
    "print(\"Overall Average Rank\")\n",
    "OAR = np.average(rank)\n",
    "print(OAR)\n",
    "print(\"\\n\")\n",
    "\n",
    "print(\"Overall STD Time\")\n",
    "OST = np.std(time)\n",
    "print(OST)\n",
    "print(\"\\n\")\n",
    "\n",
    "print(\"Overall STD Error\")\n",
    "OSE = np.std(error)\n",
    "print(OSE)\n",
    "print(\"\\n\")\n",
    "\n",
    "print(\"Overall STD Rank\")\n",
    "OSR = np.std(rank)\n",
    "print(OSR)\n",
    "print(\"\\n\")\n",
    "\n",
    "print(\"Control Type Averages\\n\")\n",
    "print(avg_table.to_string(index=False))\n",
    "print(\"\\n\")\n",
    "\n",
    "std_data = [\n",
    "    [\"Keyboard\", key_time_std, key_mist_std, key_rank_std],\n",
    "    [\"Touch\", touch_time_std, touch_mist_std, touch_rank_std],\n",
    "]\n",
    "std_table = pd.DataFrame(std_data, columns = ['Control Type', 'Time (seconds)', 'Mistakes', 'Rank'])\n",
    "\n",
    "print(\"Control Type Standard Deviations\\n\")\n",
    "print(std_table.to_string(index=False))"
   ]
  },
  {
   "cell_type": "code",
   "execution_count": 5,
   "id": "2786b91a",
   "metadata": {},
   "outputs": [
    {
     "name": "stdout",
     "output_type": "stream",
     "text": [
      "Keyboard + Time T Score:  0.7138650944409776\n",
      "Keyboard + Mistakes T Score:  0.6680105964047947\n",
      "Keyboard + Rank T Score:  6.948689069054201\n",
      "Touch + Time T Score:  2.550962244348228\n",
      "Touch + Mistakes T Score:  8.19909520153215\n",
      "Touch + Rank T Score:  3.300482105406593\n"
     ]
    }
   ],
   "source": [
    "def calcTScore(samp_mean, pop_mean, samp_std, samp_size):\n",
    "    t = (samp_mean-pop_mean)/(samp_std/np.sqrt(samp_size))\n",
    "    return t\n",
    "\n",
    "key_time_t = calcTScore(key_time_avg, OAT, key_time_std, 10)\n",
    "print(\"Keyboard + Time T Score: \", key_time_t)\n",
    "key_mist_t = calcTScore(key_mist_avg, OAE, key_mist_std, 10)\n",
    "print(\"Keyboard + Mistakes T Score: \", key_mist_t)\n",
    "key_rank_t = calcTScore(key_rank_avg, OAR, key_rank_std, 10)\n",
    "print(\"Keyboard + Rank T Score: \", key_rank_t)\n",
    "touch_time_t = np.absolute(calcTScore(touch_time_avg, OST, touch_time_std, 9))\n",
    "print(\"Touch + Time T Score: \", touch_time_t)\n",
    "touch_mist_t = np.absolute(calcTScore(touch_mist_avg, OSE, touch_mist_std, 9))\n",
    "print(\"Touch + Mistakes T Score: \", touch_mist_t)\n",
    "touch_rank_t = np.absolute(calcTScore(touch_rank_avg, OSR, touch_rank_std, 9))\n",
    "print(\"Touch + Rank T Score: \", touch_rank_t)"
   ]
  },
  {
   "cell_type": "code",
   "execution_count": 6,
   "id": "ed4a63aa",
   "metadata": {},
   "outputs": [
    {
     "name": "stdout",
     "output_type": "stream",
     "text": [
      "Control Type  Time p value  Mistakes p value  Rank p value\n",
      "    Keyboard      0.493407          0.520888      0.000067\n",
      "       Touch      0.034124          0.000037      0.010851\n"
     ]
    }
   ],
   "source": [
    "#Online calculator with T scores above helped me calculate these p values\n",
    "\n",
    "key_time_p = 0.493407\n",
    "key_mist_p = 0.520888\n",
    "key_rank_p = 0.000067\n",
    "touch_time_p = 0.034124\n",
    "touch_mist_p = 0.000037\n",
    "touch_rank_p = 0.010851\n",
    "\n",
    "p_data = [\n",
    "    [\"Keyboard\", key_time_p, key_mist_p, key_rank_p],\n",
    "    [\"Touch\", touch_time_p, touch_mist_p, touch_rank_p],\n",
    "]\n",
    "p_table = pd.DataFrame(p_data, columns = ['Control Type', 'Time p value', 'Mistakes p value', 'Rank p value'])\n",
    "\n",
    "print(p_table.to_string(index=False))"
   ]
  },
  {
   "cell_type": "code",
   "execution_count": 7,
   "id": "bc9ba186",
   "metadata": {},
   "outputs": [
    {
     "data": {
      "image/png": "[encoded data removed]",
      "text/plain": [
       "<Figure size 800x500 with 1 Axes>"
      ]
     },
     "metadata": {},
     "output_type": "display_data"
    }
   ],
   "source": [
    "bar_data = {'Keyboard':key_time_avg, 'Touch':touch_time_avg}\n",
    "control = list(bar_data.keys())\n",
    "control_time = list(bar_data.values())\n",
    "  \n",
    "fig = plt.figure(figsize = (8, 5))\n",
    "\n",
    "plt.bar(control, control_time, color ='blue', width = 0.8)\n",
    " \n",
    "plt.xlabel(\"Control Type\")\n",
    "plt.ylabel(\"Average Time (Seconds)\")\n",
    "plt.title(\"Control Types Average Time in Seconds\")\n",
    "plt.show()"
   ]
  },
  {
   "cell_type": "code",
   "execution_count": 8,
   "id": "345726e0",
   "metadata": {},
   "outputs": [
    {
     "data": {
      "image/png": "[encoded data removed]",
      "text/plain": [
       "<Figure size 800x500 with 1 Axes>"
      ]
     },
     "metadata": {},
     "output_type": "display_data"
    }
   ],
   "source": [
    "bar_data = {'Keyboard':key_mist_avg, 'Touch':touch_mist_avg}\n",
    "control = list(bar_data.keys())\n",
    "control_mist = list(bar_data.values())\n",
    "  \n",
    "fig = plt.figure(figsize = (8, 5))\n",
    "\n",
    "plt.bar(control, control_mist, color ='red', width = 0.8)\n",
    " \n",
    "plt.xlabel(\"Control Type\")\n",
    "plt.ylabel(\"Mistakes (In Game Deaths)\")\n",
    "plt.title(\"Control Types Average Mistakes\")\n",
    "plt.show()"
   ]
  },
  {
   "cell_type": "code",
   "execution_count": 9,
   "id": "1e1ec0d4",
   "metadata": {},
   "outputs": [
    {
     "data": {
      "image/png": "[encoded data removed]",
      "text/plain": [
       "<Figure size 800x500 with 1 Axes>"
      ]
     },
     "metadata": {},
     "output_type": "display_data"
    }
   ],
   "source": [
    "bar_data = {'Keyboard':key_rank_avg, 'Touch':touch_rank_avg}\n",
    "control = list(bar_data.keys())\n",
    "control_avg = list(bar_data.values())\n",
    "  \n",
    "fig = plt.figure(figsize = (8, 5))\n",
    "\n",
    "plt.bar(control, control_avg, color ='green', width = 0.8)\n",
    " \n",
    "plt.xlabel(\"Control Type\")\n",
    "plt.ylabel(\"Control Rank (Participant Given)\")\n",
    "plt.title(\"Control Types Average Participant Rank\")\n",
    "plt.show()"
   ]
  },
  {
   "cell_type": "markdown",
   "id": "66ea09dc",
   "metadata": {},
   "source": [
    "Code for calculating Standard Deviation/Mean/Etc\n",
    "Create graphs for results."
   ]
  }
 ],
 "metadata": {
  "kernelspec": {
   "display_name": "Python 3 (ipykernel)",
   "language": "python",
   "name": "python3"
  },
  "language_info": {
   "codemirror_mode": {
    "name": "ipython",
    "version": 3
   },
   "file_extension": ".py",
   "mimetype": "text/x-python",
   "name": "python",
   "nbconvert_exporter": "python",
   "pygments_lexer": "ipython3",
   "version": "3.11.4"
  }
 },
 "nbformat": 4,
 "nbformat_minor": 5
}
